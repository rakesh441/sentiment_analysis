{
 "cells": [
  {
   "cell_type": "code",
   "execution_count": 4,
   "metadata": {},
   "outputs": [
    {
     "name": "stdout",
     "output_type": "stream",
     "text": [
      "I got this DVD from a friend, who got it from someone else (and that probably keeps going on..) Even the cover of the DVD looks cheap, as is the entire movie. Gunshots and fist fights with delayed sound effects, some of the worst actors IÂ´ve seen in my life, a very simple plot, it made me laugh Â´till my stomach hurt! With very few financial resources, I must admit it looked pretty professional. Seen as a movie, it was one of the 13 in a dozen wannabe gangsta flicks nobodyÂ´s waiting for. So: if youÂ´re tired and want a cheap laugh, see this movie. If not, throw it out of the window. {'neg': 0.112, 'neu': 0.761, 'pos': 0.127, 'compound': 0.2481}\n"
     ]
    }
   ],
   "source": [
    "from vaderSentiment.vaderSentiment import SentimentIntensityAnalyzer\n",
    "analyzer = SentimentIntensityAnalyzer()\n",
    "sentence = \"I got this DVD from a friend, who got it from someone else (and that probably keeps going on..) Even the cover of the DVD looks cheap, as is the entire movie. Gunshots and fist fights with delayed sound effects, some of the worst actors IÂ´ve seen in my life, a very simple plot, it made me laugh Â´till my stomach hurt! With very few financial resources, I must admit it looked pretty professional. Seen as a movie, it was one of the 13 in a dozen wannabe gangsta flicks nobodyÂ´s waiting for. So: if youÂ´re tired and want a cheap laugh, see this movie. If not, throw it out of the window.\"\n",
    "vs = analyzer.polarity_scores(sentence)\n",
    "print(\"{:-<65} {}\".format(sentence, str(vs)))"
   ]
  },
  {
   "cell_type": "code",
   "execution_count": 5,
   "metadata": {},
   "outputs": [
    {
     "name": "stdout",
     "output_type": "stream",
     "text": [
      "Sentiment(polarity=0.043461538461538454, subjectivity=0.46302197802197803)\n"
     ]
    }
   ],
   "source": [
    "from textblob import TextBlob\n",
    "test = TextBlob(\"I got this DVD from a friend, who got it from someone else (and that probably keeps going on..) Even the cover of the DVD looks cheap, as is the entire movie. Gunshots and fist fights with delayed sound effects, some of the worst actors IÂ´ve seen in my life, a very simple plot, it made me laugh Â´till my stomach hurt! With very few financial resources, I must admit it looked pretty professional. Seen as a movie, it was one of the 13 in a dozen wannabe gangsta flicks nobodyÂ´s waiting for. So: if youÂ´re tired and want a cheap laugh, see this movie. If not, throw it out of the window.\")\n",
    "print(test.sentiment)"
   ]
  },
  {
   "cell_type": "code",
   "execution_count": null,
   "metadata": {},
   "outputs": [],
   "source": []
  },
  {
   "cell_type": "code",
   "execution_count": null,
   "metadata": {},
   "outputs": [],
   "source": []
  }
 ],
 "metadata": {
  "kernelspec": {
   "display_name": "Python 3",
   "language": "python",
   "name": "python3"
  },
  "language_info": {
   "codemirror_mode": {
    "name": "ipython",
    "version": 3
   },
   "file_extension": ".py",
   "mimetype": "text/x-python",
   "name": "python",
   "nbconvert_exporter": "python",
   "pygments_lexer": "ipython3",
   "version": "3.6.8"
  }
 },
 "nbformat": 4,
 "nbformat_minor": 2
}
